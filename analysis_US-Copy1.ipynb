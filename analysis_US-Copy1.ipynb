{
 "cells": [
  {
   "cell_type": "code",
   "execution_count": 41,
   "metadata": {},
   "outputs": [],
   "source": [
    "import geopandas as gpd\n",
    "import pandas as pd\n",
    "import os\n",
    "import numpy as np\n",
    "import matplotlib.pyplot as plt"
   ]
  },
  {
   "cell_type": "code",
   "execution_count": 42,
   "metadata": {},
   "outputs": [
    {
     "name": "stderr",
     "output_type": "stream",
     "text": [
      "/home/allen/Documents/Programs/miniconda3/lib/python3.7/site-packages/IPython/core/interactiveshell.py:3147: DtypeWarning: Columns (1,2,8,13,14,16,17) have mixed types.Specify dtype option on import or set low_memory=False.\n",
      "  interactivity=interactivity, compiler=compiler, result=result)\n"
     ]
    }
   ],
   "source": [
    "df= pd.read_csv('merged_v0.46.csv', index_col='ID')\n",
    "# gfm= pd.read_csv('gfm_v0.1.csv')"
   ]
  },
  {
   "cell_type": "code",
   "execution_count": 43,
   "metadata": {},
   "outputs": [],
   "source": [
    "df= df[df.COUNTRY=='United States of America']"
   ]
  },
  {
   "cell_type": "code",
   "execution_count": 44,
   "metadata": {},
   "outputs": [
    {
     "data": {
      "text/plain": [
       "156416"
      ]
     },
     "execution_count": 44,
     "metadata": {},
     "output_type": "execute_result"
    }
   ],
   "source": [
    "len(df)"
   ]
  },
  {
   "cell_type": "code",
   "execution_count": 5,
   "metadata": {},
   "outputs": [],
   "source": [
    "df.index= np.arange(len(df))"
   ]
  },
  {
   "cell_type": "code",
   "execution_count": 50,
   "metadata": {},
   "outputs": [],
   "source": [
    "df.to_csv('USFD_v1.0.csv')"
   ]
  },
  {
   "cell_type": "markdown",
   "metadata": {},
   "source": [
    "# Include FEDB"
   ]
  },
  {
   "cell_type": "code",
   "execution_count": 8,
   "metadata": {},
   "outputs": [],
   "source": [
    "base_dir= 'FEDB'"
   ]
  },
  {
   "cell_type": "code",
   "execution_count": 9,
   "metadata": {},
   "outputs": [],
   "source": [
    "_dir= '0101/0101.shp'"
   ]
  },
  {
   "cell_type": "code",
   "execution_count": 46,
   "metadata": {},
   "outputs": [],
   "source": [
    "for repo in os.listdir(base_dir):\n",
    "    fdir= os.path.join(base_dir,repo,repo+'.shp')\n",
    "    events= gpd.read_file(fdir)\n",
    "    _slice= slice(len(df), len(df)+len(events),1)\n",
    "    df= df.reindex(range(0, len(df)+len(events)))\n",
    "#     df.loc[len(df):len(df)+len(events),:]= ''\n",
    "#     df.loc[_slice, 'SOURCE_DB']= 'FEDB'\n",
    "    df.loc[_slice, 'SOURCE_ID']= events.STCD.to_list()\n",
    "    df.loc[_slice, 'SOURCE_DB']= 'FEDB'\n",
    "    df.loc[_slice, 'DATE_BEGIN']= pd.to_datetime(events.StartTimeF).dt.strftime('%Y%m%d%H%M%S').to_list()\n",
    "    df.loc[_slice, 'DATE_END']= pd.to_datetime(events.EndTimeF).dt.strftime('%Y%m%d%H%M%S').to_list()\n",
    "    df.loc[_slice, 'DURATION']= (pd.to_datetime(events.EndTimeF)-pd.to_datetime(events.StartTimeF)).dt.days.to_list()\n",
    "    df.loc[_slice, 'LON']= [np.array(events.geometry[i].coords)[0][0] for i in range(len(events))]\n",
    "    df.loc[_slice, 'LAT']= [np.array(events.geometry[i].coords)[0][1] for i in range(len(events))]"
   ]
  },
  {
   "cell_type": "code",
   "execution_count": 47,
   "metadata": {},
   "outputs": [
    {
     "data": {
      "text/plain": [
       "698508"
      ]
     },
     "execution_count": 47,
     "metadata": {},
     "output_type": "execute_result"
    }
   ],
   "source": [
    "len(df)"
   ]
  },
  {
   "cell_type": "markdown",
   "metadata": {},
   "source": [
    "# Correct duration for GFM"
   ]
  },
  {
   "cell_type": "markdown",
   "metadata": {},
   "source": [
    "# State-wise figures"
   ]
  },
  {
   "cell_type": "code",
   "execution_count": 89,
   "metadata": {},
   "outputs": [
    {
     "name": "stderr",
     "output_type": "stream",
     "text": [
      "/home/allen/Documents/Programs/miniconda3/lib/python3.7/site-packages/IPython/core/interactiveshell.py:3147: DtypeWarning: Columns (1,2,6,7,8,13,14,17) have mixed types.Specify dtype option on import or set low_memory=False.\n",
      "  interactivity=interactivity, compiler=compiler, result=result)\n"
     ]
    }
   ],
   "source": [
    "df= pd.read_csv('USFD_v1.0.csv', index_col='ID')"
   ]
  },
  {
   "cell_type": "code",
   "execution_count": 91,
   "metadata": {},
   "outputs": [],
   "source": [
    "df['COUNTRY']= 'United States of America'"
   ]
  },
  {
   "cell_type": "code",
   "execution_count": 86,
   "metadata": {},
   "outputs": [],
   "source": [
    "def fillStates(state):\n",
    "    masks= gdf[pd.isna(gdf.STATE)].geometry.unique().within(state.geometry)\n",
    "    print('done %s'%state[0])\n",
    "    \n",
    "    return masks, state[0]"
   ]
  },
  {
   "cell_type": "code",
   "execution_count": 87,
   "metadata": {},
   "outputs": [
    {
     "name": "stdout",
     "output_type": "stream",
     "text": [
      "done Connecticut\n",
      "done Massachusetts\n",
      "done Maine\n",
      "done New Hampshire\n",
      "done Vermont\n",
      "done New Jersey\n",
      "done Pennsylvania\n",
      "done New York\n",
      "done Indiana\n",
      "done Illinois\n",
      "done Ohio\n",
      "done Michigan\n",
      "done Wisconsin\n",
      "done Iowa\n",
      "done Missouri\n",
      "done Kansas\n",
      "done Nebraska\n",
      "done Minnesota\n",
      "done North Dakota\n",
      "done South Dakota\n",
      "done North Carolina\n",
      "done South Carolina\n",
      "done Georgia\n",
      "done Maryland\n",
      "done Virginia\n",
      "done Florida\n",
      "done District of Columbia\n",
      "done Delaware\n",
      "done West Virginia\n",
      "done Tennessee\n",
      "done Kentucky\n",
      "done Alabama\n",
      "done Mississippi\n",
      "done Arkansas\n",
      "done Texas\n",
      "done Oklahoma\n",
      "done Louisiana\n",
      "done New Mexico\n",
      "done Colorado\n",
      "done Nevada\n",
      "done Utah\n",
      "done Arizona\n",
      "done Montana\n",
      "done Wyoming\n",
      "done Idaho\n",
      "done Washington\n",
      "done Oregon\n",
      "done California\n"
     ]
    }
   ],
   "source": [
    "results= states.apply(fillStates, axis=1)"
   ]
  },
  {
   "cell_type": "code",
   "execution_count": 146,
   "metadata": {},
   "outputs": [],
   "source": [
    "unique_geometry= gdf[pd.isna(gdf.STATE)].geometry.unique()"
   ]
  },
  {
   "cell_type": "code",
   "execution_count": 145,
   "metadata": {},
   "outputs": [
    {
     "data": {
      "text/html": [
       "<div>\n",
       "<style scoped>\n",
       "    .dataframe tbody tr th:only-of-type {\n",
       "        vertical-align: middle;\n",
       "    }\n",
       "\n",
       "    .dataframe tbody tr th {\n",
       "        vertical-align: top;\n",
       "    }\n",
       "\n",
       "    .dataframe thead th {\n",
       "        text-align: right;\n",
       "    }\n",
       "</style>\n",
       "<table border=\"1\" class=\"dataframe\">\n",
       "  <thead>\n",
       "    <tr style=\"text-align: right;\">\n",
       "      <th></th>\n",
       "      <th>DATE_BEGIN</th>\n",
       "      <th>DATE_END</th>\n",
       "      <th>DURATION</th>\n",
       "      <th>LON</th>\n",
       "      <th>LAT</th>\n",
       "      <th>COUNTRY</th>\n",
       "      <th>STATE</th>\n",
       "      <th>LOCATION</th>\n",
       "      <th>AREA</th>\n",
       "      <th>FATALITY</th>\n",
       "      <th>...</th>\n",
       "      <th>SOURCE_DB</th>\n",
       "      <th>SOURCE_ID</th>\n",
       "      <th>DESCRIPTION</th>\n",
       "      <th>slope</th>\n",
       "      <th>dem</th>\n",
       "      <th>LULC</th>\n",
       "      <th>DISTANT_RIVER</th>\n",
       "      <th>CONT_AREA</th>\n",
       "      <th>DEPTH</th>\n",
       "      <th>year</th>\n",
       "    </tr>\n",
       "    <tr>\n",
       "      <th>ID</th>\n",
       "      <th></th>\n",
       "      <th></th>\n",
       "      <th></th>\n",
       "      <th></th>\n",
       "      <th></th>\n",
       "      <th></th>\n",
       "      <th></th>\n",
       "      <th></th>\n",
       "      <th></th>\n",
       "      <th></th>\n",
       "      <th></th>\n",
       "      <th></th>\n",
       "      <th></th>\n",
       "      <th></th>\n",
       "      <th></th>\n",
       "      <th></th>\n",
       "      <th></th>\n",
       "      <th></th>\n",
       "      <th></th>\n",
       "      <th></th>\n",
       "      <th></th>\n",
       "    </tr>\n",
       "  </thead>\n",
       "  <tbody>\n",
       "    <tr>\n",
       "      <th>156424</th>\n",
       "      <td>2.00312e+13</td>\n",
       "      <td>20040112053000</td>\n",
       "      <td>14.0</td>\n",
       "      <td>-84.820833</td>\n",
       "      <td>41.945833</td>\n",
       "      <td>United States of America</td>\n",
       "      <td>Nebraska</td>\n",
       "      <td>NaN</td>\n",
       "      <td>NaN</td>\n",
       "      <td>1.0</td>\n",
       "      <td>...</td>\n",
       "      <td>FEDB</td>\n",
       "      <td>4096515.0</td>\n",
       "      <td>NaN</td>\n",
       "      <td>0.415662</td>\n",
       "      <td>305.0</td>\n",
       "      <td>40.0</td>\n",
       "      <td>2.104688</td>\n",
       "      <td>3.296512</td>\n",
       "      <td>NaN</td>\n",
       "      <td>1999.0</td>\n",
       "    </tr>\n",
       "    <tr>\n",
       "      <th>156443</th>\n",
       "      <td>2.00712e+13</td>\n",
       "      <td>20080522143000</td>\n",
       "      <td>152.0</td>\n",
       "      <td>-84.820833</td>\n",
       "      <td>41.945833</td>\n",
       "      <td>United States of America</td>\n",
       "      <td>Nevada</td>\n",
       "      <td>NaN</td>\n",
       "      <td>NaN</td>\n",
       "      <td>2.0</td>\n",
       "      <td>...</td>\n",
       "      <td>FEDB</td>\n",
       "      <td>4096515.0</td>\n",
       "      <td>NaN</td>\n",
       "      <td>0.415662</td>\n",
       "      <td>305.0</td>\n",
       "      <td>40.0</td>\n",
       "      <td>2.104688</td>\n",
       "      <td>3.296512</td>\n",
       "      <td>NaN</td>\n",
       "      <td>1999.0</td>\n",
       "    </tr>\n",
       "    <tr>\n",
       "      <th>156445</th>\n",
       "      <td>2.00809e+13</td>\n",
       "      <td>20080919103000</td>\n",
       "      <td>6.0</td>\n",
       "      <td>-84.820833</td>\n",
       "      <td>41.945833</td>\n",
       "      <td>United States of America</td>\n",
       "      <td>Minnesota</td>\n",
       "      <td>NaN</td>\n",
       "      <td>NaN</td>\n",
       "      <td>0.0</td>\n",
       "      <td>...</td>\n",
       "      <td>FEDB</td>\n",
       "      <td>4096515.0</td>\n",
       "      <td>NaN</td>\n",
       "      <td>0.415662</td>\n",
       "      <td>305.0</td>\n",
       "      <td>40.0</td>\n",
       "      <td>2.104688</td>\n",
       "      <td>3.296512</td>\n",
       "      <td>NaN</td>\n",
       "      <td>1999.0</td>\n",
       "    </tr>\n",
       "    <tr>\n",
       "      <th>156447</th>\n",
       "      <td>2.00902e+13</td>\n",
       "      <td>20090328113000</td>\n",
       "      <td>29.0</td>\n",
       "      <td>-84.820833</td>\n",
       "      <td>41.945833</td>\n",
       "      <td>United States of America</td>\n",
       "      <td>Iowa</td>\n",
       "      <td>NaN</td>\n",
       "      <td>NaN</td>\n",
       "      <td>1.0</td>\n",
       "      <td>...</td>\n",
       "      <td>FEDB</td>\n",
       "      <td>4096515.0</td>\n",
       "      <td>NaN</td>\n",
       "      <td>0.415662</td>\n",
       "      <td>305.0</td>\n",
       "      <td>40.0</td>\n",
       "      <td>2.104688</td>\n",
       "      <td>3.296512</td>\n",
       "      <td>7.91</td>\n",
       "      <td>1999.0</td>\n",
       "    </tr>\n",
       "    <tr>\n",
       "      <th>156450</th>\n",
       "      <td>2.00906e+13</td>\n",
       "      <td>20090628023000</td>\n",
       "      <td>8.0</td>\n",
       "      <td>-84.820833</td>\n",
       "      <td>41.945833</td>\n",
       "      <td>United States of America</td>\n",
       "      <td>Alabama</td>\n",
       "      <td>NaN</td>\n",
       "      <td>NaN</td>\n",
       "      <td>4.0</td>\n",
       "      <td>...</td>\n",
       "      <td>FEDB</td>\n",
       "      <td>4096515.0</td>\n",
       "      <td>NaN</td>\n",
       "      <td>0.415662</td>\n",
       "      <td>305.0</td>\n",
       "      <td>40.0</td>\n",
       "      <td>2.104688</td>\n",
       "      <td>3.296512</td>\n",
       "      <td>NaN</td>\n",
       "      <td>1999.0</td>\n",
       "    </tr>\n",
       "  </tbody>\n",
       "</table>\n",
       "<p>5 rows × 24 columns</p>\n",
       "</div>"
      ],
      "text/plain": [
       "         DATE_BEGIN        DATE_END  DURATION        LON        LAT  \\\n",
       "ID                                                                    \n",
       "156424  2.00312e+13  20040112053000      14.0 -84.820833  41.945833   \n",
       "156443  2.00712e+13  20080522143000     152.0 -84.820833  41.945833   \n",
       "156445  2.00809e+13  20080919103000       6.0 -84.820833  41.945833   \n",
       "156447  2.00902e+13  20090328113000      29.0 -84.820833  41.945833   \n",
       "156450  2.00906e+13  20090628023000       8.0 -84.820833  41.945833   \n",
       "\n",
       "                         COUNTRY      STATE LOCATION  AREA  FATALITY  ...  \\\n",
       "ID                                                                    ...   \n",
       "156424  United States of America   Nebraska      NaN   NaN       1.0  ...   \n",
       "156443  United States of America     Nevada      NaN   NaN       2.0  ...   \n",
       "156445  United States of America  Minnesota      NaN   NaN       0.0  ...   \n",
       "156447  United States of America       Iowa      NaN   NaN       1.0  ...   \n",
       "156450  United States of America    Alabama      NaN   NaN       4.0  ...   \n",
       "\n",
       "        SOURCE_DB  SOURCE_ID DESCRIPTION     slope    dem  LULC DISTANT_RIVER  \\\n",
       "ID                                                                              \n",
       "156424       FEDB  4096515.0         NaN  0.415662  305.0  40.0      2.104688   \n",
       "156443       FEDB  4096515.0         NaN  0.415662  305.0  40.0      2.104688   \n",
       "156445       FEDB  4096515.0         NaN  0.415662  305.0  40.0      2.104688   \n",
       "156447       FEDB  4096515.0         NaN  0.415662  305.0  40.0      2.104688   \n",
       "156450       FEDB  4096515.0         NaN  0.415662  305.0  40.0      2.104688   \n",
       "\n",
       "        CONT_AREA  DEPTH    year  \n",
       "ID                                \n",
       "156424   3.296512    NaN  1999.0  \n",
       "156443   3.296512    NaN  1999.0  \n",
       "156445   3.296512    NaN  1999.0  \n",
       "156447   3.296512   7.91  1999.0  \n",
       "156450   3.296512    NaN  1999.0  \n",
       "\n",
       "[5 rows x 24 columns]"
      ]
     },
     "execution_count": 145,
     "metadata": {},
     "output_type": "execute_result"
    }
   ],
   "source": [
    "df.loc[[156424, 156443, 156445, 156447, 156450]]"
   ]
  },
  {
   "cell_type": "code",
   "execution_count": null,
   "metadata": {},
   "outputs": [],
   "source": [
    "for (masks, state_name) in results:\n",
    "    for geometry in unique_geometry[masks]:\n",
    "        if len(geometry.coords)>=1:\n",
    "            ids= gdf[(gdf.geometry==geometry)].index.values\n",
    "#             print(ids)\n",
    "            df.loc[ids,'STATE']= state_name"
   ]
  },
  {
   "cell_type": "code",
   "execution_count": 132,
   "metadata": {},
   "outputs": [
    {
     "data": {
      "text/plain": [
       "ID\n",
       "0               Oklahoma\n",
       "1                Indiana\n",
       "2               Kentucky\n",
       "3         North Carolina\n",
       "4               NEW YORK\n",
       "               ...      \n",
       "698503               NaN\n",
       "698504               NaN\n",
       "698505               NaN\n",
       "698506               NaN\n",
       "698507               NaN\n",
       "Name: STATE, Length: 698508, dtype: object"
      ]
     },
     "execution_count": 132,
     "metadata": {},
     "output_type": "execute_result"
    }
   ],
   "source": [
    "df.STATE"
   ]
  },
  {
   "cell_type": "code",
   "execution_count": 60,
   "metadata": {},
   "outputs": [],
   "source": [
    "gdf = gpd.GeoDataFrame(\n",
    "    df, geometry=gpd.points_from_xy(df.LON, df.LAT))"
   ]
  },
  {
   "cell_type": "code",
   "execution_count": 58,
   "metadata": {},
   "outputs": [],
   "source": [
    "def countByStates(state, country):\n",
    "    masks= gdf[gdf.COUNTRY==country].geometry.within(state.geometry)\n",
    "    _gdf= gdf[gdf.COUNTRY==country][masks]\n",
    "    \n",
    "    return len(_gdf)\n",
    "\n",
    "def getIndByStates(state, country):\n",
    "    masks= gdf[gdf.COUNTRY==country].geometry.within(state.geometry)\n",
    "    \n",
    "    return gdf[gdf.COUNTRY==country][masks].index.values"
   ]
  },
  {
   "cell_type": "code",
   "execution_count": 56,
   "metadata": {},
   "outputs": [],
   "source": [
    "states= gpd.read_file('US_floods_states')"
   ]
  },
  {
   "cell_type": "code",
   "execution_count": 61,
   "metadata": {},
   "outputs": [
    {
     "ename": "TypeError",
     "evalue": "countByStates() missing 1 required positional argument: 'country'",
     "output_type": "error",
     "traceback": [
      "\u001b[0;31m---------------------------------------------------------------------------\u001b[0m",
      "\u001b[0;31mTypeError\u001b[0m                                 Traceback (most recent call last)",
      "\u001b[0;32m<ipython-input-61-8e34b6979ef2>\u001b[0m in \u001b[0;36m<module>\u001b[0;34m\u001b[0m\n\u001b[0;32m----> 1\u001b[0;31m \u001b[0mstates\u001b[0m\u001b[0;34m[\u001b[0m\u001b[0;34m'events'\u001b[0m\u001b[0;34m]\u001b[0m\u001b[0;34m=\u001b[0m \u001b[0mstates\u001b[0m\u001b[0;34m.\u001b[0m\u001b[0mapply\u001b[0m\u001b[0;34m(\u001b[0m\u001b[0mcountByStates\u001b[0m\u001b[0;34m,\u001b[0m \u001b[0maxis\u001b[0m\u001b[0;34m=\u001b[0m\u001b[0;36m1\u001b[0m\u001b[0;34m)\u001b[0m\u001b[0;34m\u001b[0m\u001b[0;34m\u001b[0m\u001b[0m\n\u001b[0m",
      "\u001b[0;32m~/Documents/Programs/miniconda3/lib/python3.7/site-packages/pandas/core/frame.py\u001b[0m in \u001b[0;36mapply\u001b[0;34m(self, func, axis, raw, result_type, args, **kwds)\u001b[0m\n\u001b[1;32m   7550\u001b[0m             \u001b[0mkwds\u001b[0m\u001b[0;34m=\u001b[0m\u001b[0mkwds\u001b[0m\u001b[0;34m,\u001b[0m\u001b[0;34m\u001b[0m\u001b[0;34m\u001b[0m\u001b[0m\n\u001b[1;32m   7551\u001b[0m         )\n\u001b[0;32m-> 7552\u001b[0;31m         \u001b[0;32mreturn\u001b[0m \u001b[0mop\u001b[0m\u001b[0;34m.\u001b[0m\u001b[0mget_result\u001b[0m\u001b[0;34m(\u001b[0m\u001b[0;34m)\u001b[0m\u001b[0;34m\u001b[0m\u001b[0;34m\u001b[0m\u001b[0m\n\u001b[0m\u001b[1;32m   7553\u001b[0m \u001b[0;34m\u001b[0m\u001b[0m\n\u001b[1;32m   7554\u001b[0m     \u001b[0;32mdef\u001b[0m \u001b[0mapplymap\u001b[0m\u001b[0;34m(\u001b[0m\u001b[0mself\u001b[0m\u001b[0;34m,\u001b[0m \u001b[0mfunc\u001b[0m\u001b[0;34m)\u001b[0m \u001b[0;34m->\u001b[0m \u001b[0;34m\"DataFrame\"\u001b[0m\u001b[0;34m:\u001b[0m\u001b[0;34m\u001b[0m\u001b[0;34m\u001b[0m\u001b[0m\n",
      "\u001b[0;32m~/Documents/Programs/miniconda3/lib/python3.7/site-packages/pandas/core/apply.py\u001b[0m in \u001b[0;36mget_result\u001b[0;34m(self)\u001b[0m\n\u001b[1;32m    178\u001b[0m             \u001b[0;32mreturn\u001b[0m \u001b[0mself\u001b[0m\u001b[0;34m.\u001b[0m\u001b[0mapply_raw\u001b[0m\u001b[0;34m(\u001b[0m\u001b[0;34m)\u001b[0m\u001b[0;34m\u001b[0m\u001b[0;34m\u001b[0m\u001b[0m\n\u001b[1;32m    179\u001b[0m \u001b[0;34m\u001b[0m\u001b[0m\n\u001b[0;32m--> 180\u001b[0;31m         \u001b[0;32mreturn\u001b[0m \u001b[0mself\u001b[0m\u001b[0;34m.\u001b[0m\u001b[0mapply_standard\u001b[0m\u001b[0;34m(\u001b[0m\u001b[0;34m)\u001b[0m\u001b[0;34m\u001b[0m\u001b[0;34m\u001b[0m\u001b[0m\n\u001b[0m\u001b[1;32m    181\u001b[0m \u001b[0;34m\u001b[0m\u001b[0m\n\u001b[1;32m    182\u001b[0m     \u001b[0;32mdef\u001b[0m \u001b[0mapply_empty_result\u001b[0m\u001b[0;34m(\u001b[0m\u001b[0mself\u001b[0m\u001b[0;34m)\u001b[0m\u001b[0;34m:\u001b[0m\u001b[0;34m\u001b[0m\u001b[0;34m\u001b[0m\u001b[0m\n",
      "\u001b[0;32m~/Documents/Programs/miniconda3/lib/python3.7/site-packages/pandas/core/apply.py\u001b[0m in \u001b[0;36mapply_standard\u001b[0;34m(self)\u001b[0m\n\u001b[1;32m    269\u001b[0m \u001b[0;34m\u001b[0m\u001b[0m\n\u001b[1;32m    270\u001b[0m     \u001b[0;32mdef\u001b[0m \u001b[0mapply_standard\u001b[0m\u001b[0;34m(\u001b[0m\u001b[0mself\u001b[0m\u001b[0;34m)\u001b[0m\u001b[0;34m:\u001b[0m\u001b[0;34m\u001b[0m\u001b[0;34m\u001b[0m\u001b[0m\n\u001b[0;32m--> 271\u001b[0;31m         \u001b[0mresults\u001b[0m\u001b[0;34m,\u001b[0m \u001b[0mres_index\u001b[0m \u001b[0;34m=\u001b[0m \u001b[0mself\u001b[0m\u001b[0;34m.\u001b[0m\u001b[0mapply_series_generator\u001b[0m\u001b[0;34m(\u001b[0m\u001b[0;34m)\u001b[0m\u001b[0;34m\u001b[0m\u001b[0;34m\u001b[0m\u001b[0m\n\u001b[0m\u001b[1;32m    272\u001b[0m \u001b[0;34m\u001b[0m\u001b[0m\n\u001b[1;32m    273\u001b[0m         \u001b[0;31m# wrap results\u001b[0m\u001b[0;34m\u001b[0m\u001b[0;34m\u001b[0m\u001b[0;34m\u001b[0m\u001b[0m\n",
      "\u001b[0;32m~/Documents/Programs/miniconda3/lib/python3.7/site-packages/pandas/core/apply.py\u001b[0m in \u001b[0;36mapply_series_generator\u001b[0;34m(self)\u001b[0m\n\u001b[1;32m    298\u001b[0m                 \u001b[0;32mfor\u001b[0m \u001b[0mi\u001b[0m\u001b[0;34m,\u001b[0m \u001b[0mv\u001b[0m \u001b[0;32min\u001b[0m \u001b[0menumerate\u001b[0m\u001b[0;34m(\u001b[0m\u001b[0mseries_gen\u001b[0m\u001b[0;34m)\u001b[0m\u001b[0;34m:\u001b[0m\u001b[0;34m\u001b[0m\u001b[0;34m\u001b[0m\u001b[0m\n\u001b[1;32m    299\u001b[0m                     \u001b[0;31m# ignore SettingWithCopy here in case the user mutates\u001b[0m\u001b[0;34m\u001b[0m\u001b[0;34m\u001b[0m\u001b[0;34m\u001b[0m\u001b[0m\n\u001b[0;32m--> 300\u001b[0;31m                     \u001b[0mresults\u001b[0m\u001b[0;34m[\u001b[0m\u001b[0mi\u001b[0m\u001b[0;34m]\u001b[0m \u001b[0;34m=\u001b[0m \u001b[0mself\u001b[0m\u001b[0;34m.\u001b[0m\u001b[0mf\u001b[0m\u001b[0;34m(\u001b[0m\u001b[0mv\u001b[0m\u001b[0;34m)\u001b[0m\u001b[0;34m\u001b[0m\u001b[0;34m\u001b[0m\u001b[0m\n\u001b[0m\u001b[1;32m    301\u001b[0m                     \u001b[0;32mif\u001b[0m \u001b[0misinstance\u001b[0m\u001b[0;34m(\u001b[0m\u001b[0mresults\u001b[0m\u001b[0;34m[\u001b[0m\u001b[0mi\u001b[0m\u001b[0;34m]\u001b[0m\u001b[0;34m,\u001b[0m \u001b[0mABCSeries\u001b[0m\u001b[0;34m)\u001b[0m\u001b[0;34m:\u001b[0m\u001b[0;34m\u001b[0m\u001b[0;34m\u001b[0m\u001b[0m\n\u001b[1;32m    302\u001b[0m                         \u001b[0;31m# If we have a view on v, we need to make a copy because\u001b[0m\u001b[0;34m\u001b[0m\u001b[0;34m\u001b[0m\u001b[0;34m\u001b[0m\u001b[0m\n",
      "\u001b[0;31mTypeError\u001b[0m: countByStates() missing 1 required positional argument: 'country'"
     ]
    }
   ],
   "source": [
    "states['events']= states.apply(countByStates, axis=1)"
   ]
  }
 ],
 "metadata": {
  "kernelspec": {
   "display_name": "Python 3",
   "language": "python",
   "name": "python3"
  },
  "language_info": {
   "codemirror_mode": {
    "name": "ipython",
    "version": 3
   },
   "file_extension": ".py",
   "mimetype": "text/x-python",
   "name": "python",
   "nbconvert_exporter": "python",
   "pygments_lexer": "ipython3",
   "version": "3.7.7"
  }
 },
 "nbformat": 4,
 "nbformat_minor": 4
}
